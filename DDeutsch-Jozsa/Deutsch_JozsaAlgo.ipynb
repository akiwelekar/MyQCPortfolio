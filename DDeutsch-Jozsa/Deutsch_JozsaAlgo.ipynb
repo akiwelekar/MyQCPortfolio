{
  "nbformat": 4,
  "nbformat_minor": 0,
  "metadata": {
    "colab": {
      "provenance": [],
      "authorship_tag": "ABX9TyMAlZS2S6JbsaAJdfI5qVsw",
      "include_colab_link": true
    },
    "kernelspec": {
      "name": "python3",
      "display_name": "Python 3"
    },
    "language_info": {
      "name": "python"
    }
  },
  "cells": [
    {
      "cell_type": "markdown",
      "metadata": {
        "id": "view-in-github",
        "colab_type": "text"
      },
      "source": [
        "<a href=\"https://colab.research.google.com/github/akiwelekar/MyQCPortfolio/blob/main/DDeutsch-Jozsa/Deutsch_JozsaAlgo.ipynb\" target=\"_parent\"><img src=\"https://colab.research.google.com/assets/colab-badge.svg\" alt=\"Open In Colab\"/></a>"
      ]
    },
    {
      "cell_type": "markdown",
      "metadata": {
        "id": "e5e5a79b"
      },
      "source": [
        "## Understanding the Deutsch-Jozsa Algorithm\n",
        "\n",
        "This notebook demonstrates the Deutsch-Jozsa algorithm, a quantum algorithm designed to solve a specific problem faster than any classical algorithm. The problem is to determine if a given function is \"constant\" (always outputs the same value) or \"balanced\" (outputs 0 for half of the inputs and 1 for the other half). The algorithm achieves this by using quantum superposition and interference.\n",
        "\n",
        "Let's break down the code step by step."
      ]
    },
    {
      "cell_type": "markdown",
      "metadata": {
        "id": "59077a19"
      },
      "source": [
        "### 1. Setting up the Environment\n",
        "\n",
        "First, we install and import the necessary libraries: Qiskit for building and simulating quantum circuits, and Matplotlib for plotting the results."
      ]
    },
    {
      "cell_type": "code",
      "metadata": {
        "colab": {
          "base_uri": "https://localhost:8080/"
        },
        "id": "dfb8474c",
        "outputId": "0eab9adb-1711-4ce3-cd04-819034987160"
      },
      "source": [
        "!pip install qiskit qiskit[visualization]\n",
        "!pip install --upgrade qiskit\n",
        "!pip install qiskit_aer\n",
        "\n",
        "from qiskit import QuantumCircuit\n",
        "from qiskit import transpile\n",
        "from qiskit_aer import AerSimulator as Aer\n",
        "from qiskit.visualization import plot_histogram\n",
        "from qiskit.circuit.library import ZGate\n",
        "import matplotlib.pyplot as plt\n",
        "from IPython.display import display"
      ],
      "execution_count": 21,
      "outputs": [
        {
          "output_type": "stream",
          "name": "stdout",
          "text": [
            "Requirement already satisfied: qiskit in /usr/local/lib/python3.11/dist-packages (2.1.1)\n",
            "Requirement already satisfied: rustworkx>=0.15.0 in /usr/local/lib/python3.11/dist-packages (from qiskit) (0.16.0)\n",
            "Requirement already satisfied: numpy<3,>=1.17 in /usr/local/lib/python3.11/dist-packages (from qiskit) (2.0.2)\n",
            "Requirement already satisfied: scipy>=1.5 in /usr/local/lib/python3.11/dist-packages (from qiskit) (1.16.0)\n",
            "Requirement already satisfied: dill>=0.3 in /usr/local/lib/python3.11/dist-packages (from qiskit) (0.3.7)\n",
            "Requirement already satisfied: stevedore>=3.0.0 in /usr/local/lib/python3.11/dist-packages (from qiskit) (5.4.1)\n",
            "Requirement already satisfied: typing-extensions in /usr/local/lib/python3.11/dist-packages (from qiskit) (4.14.1)\n",
            "Requirement already satisfied: matplotlib>=3.3 in /usr/local/lib/python3.11/dist-packages (from qiskit[visualization]) (3.10.0)\n",
            "Requirement already satisfied: pydot in /usr/local/lib/python3.11/dist-packages (from qiskit[visualization]) (3.0.4)\n",
            "Requirement already satisfied: Pillow>=4.2.1 in /usr/local/lib/python3.11/dist-packages (from qiskit[visualization]) (11.3.0)\n",
            "Requirement already satisfied: pylatexenc>=1.4 in /usr/local/lib/python3.11/dist-packages (from qiskit[visualization]) (2.10)\n",
            "Requirement already satisfied: seaborn>=0.9.0 in /usr/local/lib/python3.11/dist-packages (from qiskit[visualization]) (0.13.2)\n",
            "Requirement already satisfied: sympy>=1.3 in /usr/local/lib/python3.11/dist-packages (from qiskit[visualization]) (1.13.1)\n",
            "Requirement already satisfied: contourpy>=1.0.1 in /usr/local/lib/python3.11/dist-packages (from matplotlib>=3.3->qiskit[visualization]) (1.3.2)\n",
            "Requirement already satisfied: cycler>=0.10 in /usr/local/lib/python3.11/dist-packages (from matplotlib>=3.3->qiskit[visualization]) (0.12.1)\n",
            "Requirement already satisfied: fonttools>=4.22.0 in /usr/local/lib/python3.11/dist-packages (from matplotlib>=3.3->qiskit[visualization]) (4.59.0)\n",
            "Requirement already satisfied: kiwisolver>=1.3.1 in /usr/local/lib/python3.11/dist-packages (from matplotlib>=3.3->qiskit[visualization]) (1.4.8)\n",
            "Requirement already satisfied: packaging>=20.0 in /usr/local/lib/python3.11/dist-packages (from matplotlib>=3.3->qiskit[visualization]) (25.0)\n",
            "Requirement already satisfied: pyparsing>=2.3.1 in /usr/local/lib/python3.11/dist-packages (from matplotlib>=3.3->qiskit[visualization]) (3.2.3)\n",
            "Requirement already satisfied: python-dateutil>=2.7 in /usr/local/lib/python3.11/dist-packages (from matplotlib>=3.3->qiskit[visualization]) (2.9.0.post0)\n",
            "Requirement already satisfied: pandas>=1.2 in /usr/local/lib/python3.11/dist-packages (from seaborn>=0.9.0->qiskit[visualization]) (2.2.2)\n",
            "Requirement already satisfied: pbr>=2.0.0 in /usr/local/lib/python3.11/dist-packages (from stevedore>=3.0.0->qiskit) (6.1.1)\n",
            "Requirement already satisfied: mpmath<1.4,>=1.1.0 in /usr/local/lib/python3.11/dist-packages (from sympy>=1.3->qiskit[visualization]) (1.3.0)\n",
            "Requirement already satisfied: pytz>=2020.1 in /usr/local/lib/python3.11/dist-packages (from pandas>=1.2->seaborn>=0.9.0->qiskit[visualization]) (2025.2)\n",
            "Requirement already satisfied: tzdata>=2022.7 in /usr/local/lib/python3.11/dist-packages (from pandas>=1.2->seaborn>=0.9.0->qiskit[visualization]) (2025.2)\n",
            "Requirement already satisfied: setuptools in /usr/local/lib/python3.11/dist-packages (from pbr>=2.0.0->stevedore>=3.0.0->qiskit) (75.2.0)\n",
            "Requirement already satisfied: six>=1.5 in /usr/local/lib/python3.11/dist-packages (from python-dateutil>=2.7->matplotlib>=3.3->qiskit[visualization]) (1.17.0)\n",
            "Requirement already satisfied: qiskit in /usr/local/lib/python3.11/dist-packages (2.1.1)\n",
            "Requirement already satisfied: rustworkx>=0.15.0 in /usr/local/lib/python3.11/dist-packages (from qiskit) (0.16.0)\n",
            "Requirement already satisfied: numpy<3,>=1.17 in /usr/local/lib/python3.11/dist-packages (from qiskit) (2.0.2)\n",
            "Requirement already satisfied: scipy>=1.5 in /usr/local/lib/python3.11/dist-packages (from qiskit) (1.16.0)\n",
            "Requirement already satisfied: dill>=0.3 in /usr/local/lib/python3.11/dist-packages (from qiskit) (0.3.7)\n",
            "Requirement already satisfied: stevedore>=3.0.0 in /usr/local/lib/python3.11/dist-packages (from qiskit) (5.4.1)\n",
            "Requirement already satisfied: typing-extensions in /usr/local/lib/python3.11/dist-packages (from qiskit) (4.14.1)\n",
            "Requirement already satisfied: pbr>=2.0.0 in /usr/local/lib/python3.11/dist-packages (from stevedore>=3.0.0->qiskit) (6.1.1)\n",
            "Requirement already satisfied: setuptools in /usr/local/lib/python3.11/dist-packages (from pbr>=2.0.0->stevedore>=3.0.0->qiskit) (75.2.0)\n",
            "Requirement already satisfied: qiskit_aer in /usr/local/lib/python3.11/dist-packages (0.17.1)\n",
            "Requirement already satisfied: qiskit>=1.1.0 in /usr/local/lib/python3.11/dist-packages (from qiskit_aer) (2.1.1)\n",
            "Requirement already satisfied: numpy>=1.16.3 in /usr/local/lib/python3.11/dist-packages (from qiskit_aer) (2.0.2)\n",
            "Requirement already satisfied: scipy>=1.0 in /usr/local/lib/python3.11/dist-packages (from qiskit_aer) (1.16.0)\n",
            "Requirement already satisfied: psutil>=5 in /usr/local/lib/python3.11/dist-packages (from qiskit_aer) (5.9.5)\n",
            "Requirement already satisfied: python-dateutil>=2.8.0 in /usr/local/lib/python3.11/dist-packages (from qiskit_aer) (2.9.0.post0)\n",
            "Requirement already satisfied: six>=1.5 in /usr/local/lib/python3.11/dist-packages (from python-dateutil>=2.8.0->qiskit_aer) (1.17.0)\n",
            "Requirement already satisfied: rustworkx>=0.15.0 in /usr/local/lib/python3.11/dist-packages (from qiskit>=1.1.0->qiskit_aer) (0.16.0)\n",
            "Requirement already satisfied: dill>=0.3 in /usr/local/lib/python3.11/dist-packages (from qiskit>=1.1.0->qiskit_aer) (0.3.7)\n",
            "Requirement already satisfied: stevedore>=3.0.0 in /usr/local/lib/python3.11/dist-packages (from qiskit>=1.1.0->qiskit_aer) (5.4.1)\n",
            "Requirement already satisfied: typing-extensions in /usr/local/lib/python3.11/dist-packages (from qiskit>=1.1.0->qiskit_aer) (4.14.1)\n",
            "Requirement already satisfied: pbr>=2.0.0 in /usr/local/lib/python3.11/dist-packages (from stevedore>=3.0.0->qiskit>=1.1.0->qiskit_aer) (6.1.1)\n",
            "Requirement already satisfied: setuptools in /usr/local/lib/python3.11/dist-packages (from pbr>=2.0.0->stevedore>=3.0.0->qiskit>=1.1.0->qiskit_aer) (75.2.0)\n"
          ]
        }
      ]
    },
    {
      "cell_type": "markdown",
      "metadata": {
        "id": "2413156a"
      },
      "source": [
        "### 2. Defining the Oracle\n",
        "\n",
        "The \"oracle\" is a quantum circuit that represents the function we want to test. In this case, we are using a balanced function where the output is 1 if the input is 01 or 10 (binary). The oracle flips the phase of the output qubit based on the input."
      ]
    },
    {
      "cell_type": "code",
      "metadata": {
        "colab": {
          "base_uri": "https://localhost:8080/"
        },
        "id": "71ae6d16",
        "outputId": "5f460387-acaa-46af-d0c9-e288de3b5ad6"
      },
      "source": [
        "# Define oracle for balanced function f(x) = x1 XOR x0 (i.e. 1 if x = 01 or 10)\n",
        "# This oracle flips the phase of the output qubit if the input is 01 or 10.\n",
        "oracle = QuantumCircuit(3, name='oracle') # Added a name for clarity\n",
        "oracle.cx(0, 2) # CNOT gate with control on qubit 0 and target on qubit 2\n",
        "oracle.cx(1, 2) # CNOT gate with control on qubit 1 and target on qubit 2"
      ],
      "execution_count": 22,
      "outputs": [
        {
          "output_type": "execute_result",
          "data": {
            "text/plain": [
              "<qiskit.circuit.instructionset.InstructionSet at 0x7e6df037ffd0>"
            ]
          },
          "metadata": {},
          "execution_count": 22
        }
      ]
    },
    {
      "cell_type": "markdown",
      "metadata": {
        "id": "f55081e1"
      },
      "source": [
        "### 3. Building the Deutsch-Jozsa Circuit\n",
        "\n",
        "This is the main circuit where we apply a series of quantum gates to the qubits.\n",
        "\n",
        "- We use 3 qubits: 2 for input (qubits 0 and 1) and 1 for output (qubit 2).\n",
        "- We also use 2 classical bits to store the measurement results of the input qubits."
      ]
    },
    {
      "cell_type": "code",
      "metadata": {
        "colab": {
          "base_uri": "https://localhost:8080/"
        },
        "id": "aa083bb9",
        "outputId": "225dd0ec-8978-40f8-ad79-39d3b34b17d2"
      },
      "source": [
        "# Full Deutsch-Jozsa circuit\n",
        "# We use 3 qubits: 2 for input (0 and 1) and 1 for output (2).\n",
        "# We use 2 classical bits to store the measurement results of the input qubits.\n",
        "dj = QuantumCircuit(3, 2)\n",
        "\n",
        "# Step 1: Initialize input qubits to |0⟩ and output qubit to |1⟩\n",
        "dj.x(2)          # Apply X gate to the output qubit (qubit 2) to put it in the |1⟩ state\n",
        "dj.h([0,1,2])    # Apply Hadamard gate to all qubits.\n",
        "                 # This creates a superposition of all possible input states for qubits 0 and 1,\n",
        "                 # and puts the output qubit in the (|0⟩ - |1⟩)/sqrt(2) state (often called the |-> state).\n",
        "\n",
        "# Step 2: Apply oracle\n",
        "# The oracle is appended to the circuit, acting on the input and output qubits.\n",
        "dj.append(oracle.to_gate(), [0,1,2])\n",
        "\n",
        "# Step 3: Apply Hadamard to input qubits again\n",
        "# Applying Hadamard to the input qubits (0 and 1) again.\n",
        "# If the function is constant, the input qubits will return to the |00⟩ state.\n",
        "# If the function is balanced, the input qubits will be in a superposition that\n",
        "# when measured, will result in a non-zero value (either 01, 10, or 11).\n",
        "dj.h([0,1])\n",
        "\n",
        "# Step 4: Measure input qubits\n",
        "# Measure the input qubits (0 and 1) and store the results in the classical bits (0 and 1).\n",
        "# For a balanced function, the measurement result will be non-zero (at least one of the bits will be 1).\n",
        "# For a constant function, the measurement result will be 00.\n",
        "dj.measure([0,1], [0,1])"
      ],
      "execution_count": 23,
      "outputs": [
        {
          "output_type": "execute_result",
          "data": {
            "text/plain": [
              "<qiskit.circuit.instructionset.InstructionSet at 0x7e6df037c460>"
            ]
          },
          "metadata": {},
          "execution_count": 23
        }
      ]
    },
    {
      "cell_type": "markdown",
      "metadata": {
        "id": "d629af69"
      },
      "source": [
        "### 4. Running the Simulation and Analyzing Results\n",
        "\n",
        "Finally, we run the quantum circuit on a simulator and analyze the measurement results.\n",
        "\n",
        "- We use the `AerSimulator` from `qiskit_aer` to simulate the quantum computer.\n",
        "- We `transpile` the circuit to optimize it for the simulator.\n",
        "- We run the simulation multiple times (`shots=1024`) to get statistically significant results.\n",
        "- The `plot_histogram` function visualizes the measurement counts.\n",
        "\n",
        "For a balanced function, you should see measurement results other than '00'. If it were a constant function, you would only see '00'."
      ]
    },
    {
      "cell_type": "code",
      "metadata": {
        "colab": {
          "base_uri": "https://localhost:8080/",
          "height": 487
        },
        "id": "61be34de",
        "outputId": "d790a89a-f329-49d4-d29e-fc54abfaf915"
      },
      "source": [
        "# Run the simulation\n",
        "backend = Aer() # Use the Aer simulator from Qiskit Aer\n",
        "\n",
        "# Transpile the circuit for the backend\n",
        "# Transpilation optimizes the circuit for the specific backend.\n",
        "transpiled_dj = transpile(dj, backend)\n",
        "\n",
        "# Run the transpiled circuit on the backend\n",
        "# We run the circuit 1024 times (shots) to get measurement counts.\n",
        "result = backend.run(transpiled_dj, shots=1024).result()\n",
        "counts = result.get_counts() # Get the measurement counts\n",
        "\n",
        "# Display the histogram of the measurement counts\n",
        "display(plot_histogram(counts))\n",
        "plt.show() # Show the plot"
      ],
      "execution_count": 24,
      "outputs": [
        {
          "output_type": "display_data",
          "data": {
            "text/plain": [
              "<Figure size 640x480 with 1 Axes>"
            ],
            "image/png": "[encoded data removed]"
          },
          "metadata": {}
        }
      ]
    },
    {
      "cell_type": "code",
      "metadata": {
        "colab": {
          "base_uri": "https://localhost:8080/",
          "height": 320
        },
        "id": "9fba53f6",
        "outputId": "34f363f9-85c9-4c46-9a03-4ec2b9eaefb0"
      },
      "source": [
        "# Draw the circuit\n",
        "display(dj.draw(output='mpl'))"
      ],
      "execution_count": 42,
      "outputs": [
        {
          "output_type": "display_data",
          "data": {
            "text/plain": [
              "<Figure size 705.552x367.889 with 1 Axes>"
            ],
            "image/png": "[encoded data removed]"
          },
          "metadata": {}
        }
      ]
    }
  ]
}